{
 "cells": [
  {
   "cell_type": "markdown",
   "id": "e495394f",
   "metadata": {},
   "source": [
    "# Use web Scraping to get information"
   ]
  },
  {
   "cell_type": "markdown",
   "id": "ba7de00c",
   "metadata": {},
   "source": [
    "# install Libraries"
   ]
  },
  {
   "cell_type": "code",
   "execution_count": 2,
   "id": "01b5d381",
   "metadata": {},
   "outputs": [
    {
     "name": "stdout",
     "output_type": "stream",
     "text": [
      "Requirement already satisfied: pandas in c:\\users\\zain ul abideeen\\anaconda3\\lib\\site-packages (1.4.2)\n",
      "Requirement already satisfied: python-dateutil>=2.8.1 in c:\\users\\zain ul abideeen\\anaconda3\\lib\\site-packages (from pandas) (2.8.2)\n",
      "Requirement already satisfied: numpy>=1.18.5 in c:\\users\\zain ul abideeen\\anaconda3\\lib\\site-packages (from pandas) (1.21.5)\n",
      "Requirement already satisfied: pytz>=2020.1 in c:\\users\\zain ul abideeen\\anaconda3\\lib\\site-packages (from pandas) (2021.3)\n",
      "Requirement already satisfied: six>=1.5 in c:\\users\\zain ul abideeen\\anaconda3\\lib\\site-packages (from python-dateutil>=2.8.1->pandas) (1.16.0)\n",
      "Collecting bs4\n",
      "  Downloading bs4-0.0.1.tar.gz (1.1 kB)\n",
      "Requirement already satisfied: beautifulsoup4 in c:\\users\\zain ul abideeen\\anaconda3\\lib\\site-packages (from bs4) (4.11.1)\n",
      "Requirement already satisfied: soupsieve>1.2 in c:\\users\\zain ul abideeen\\anaconda3\\lib\\site-packages (from beautifulsoup4->bs4) (2.3.1)\n",
      "Building wheels for collected packages: bs4\n",
      "  Building wheel for bs4 (setup.py): started\n",
      "  Building wheel for bs4 (setup.py): finished with status 'done'\n",
      "  Created wheel for bs4: filename=bs4-0.0.1-py3-none-any.whl size=1272 sha256=8118bf3a2df45bb0b8eb9e356d1673df633597fb0e736178ee802e4ce43d921a\n",
      "  Stored in directory: c:\\users\\zain ul abideeen\\appdata\\local\\pip\\cache\\wheels\\73\\2b\\cb\\099980278a0c9a3e57ff1a89875ec07bfa0b6fcbebb9a8cad3\n",
      "Successfully built bs4\n",
      "Installing collected packages: bs4\n",
      "Successfully installed bs4-0.0.1\n",
      "Requirement already satisfied: requests in c:\\users\\zain ul abideeen\\anaconda3\\lib\\site-packages (2.27.1)\n",
      "Requirement already satisfied: idna<4,>=2.5 in c:\\users\\zain ul abideeen\\anaconda3\\lib\\site-packages (from requests) (3.3)\n",
      "Requirement already satisfied: certifi>=2017.4.17 in c:\\users\\zain ul abideeen\\anaconda3\\lib\\site-packages (from requests) (2021.10.8)\n",
      "Requirement already satisfied: charset-normalizer~=2.0.0 in c:\\users\\zain ul abideeen\\anaconda3\\lib\\site-packages (from requests) (2.0.4)\n",
      "Requirement already satisfied: urllib3<1.27,>=1.21.1 in c:\\users\\zain ul abideeen\\anaconda3\\lib\\site-packages (from requests) (1.26.9)\n"
     ]
    }
   ],
   "source": [
    "!pip install pandas\n",
    "!pip install bs4\n",
    "!pip install requests"
   ]
  },
  {
   "cell_type": "markdown",
   "id": "52ee67a4",
   "metadata": {},
   "source": [
    "# import Librariries"
   ]
  },
  {
   "cell_type": "code",
   "execution_count": 4,
   "id": "8aa37e60",
   "metadata": {},
   "outputs": [],
   "source": [
    "import pandas as pd\n",
    "from bs4 import BeautifulSoup\n",
    "import requests"
   ]
  },
  {
   "cell_type": "markdown",
   "id": "98e5dbee",
   "metadata": {},
   "source": [
    "# Extract Data Using Web Scraping\n",
    "The wikipedia webpage https://en.wikipedia.org/wiki/List_of_largest_banks provides information about largest banks in the world\n",
    "by various parameters. Scrape the data from the table 'By market capitalization' and store it in a JSON file."
   ]
  },
  {
   "cell_type": "code",
   "execution_count": 6,
   "id": "60242a94",
   "metadata": {},
   "outputs": [
    {
     "name": "stdout",
     "output_type": "stream",
     "text": [
      "200\n"
     ]
    }
   ],
   "source": [
    "#Target webpage\n",
    "url = \"https://en.wikipedia.org/wiki/List_of_largest_banks?utm_medium=Exinfluencer&utm_source=Exinfluencer&utm_content=000026UJ&utm_term=10006555&utm_id=NA-SkillsNetwork-Channel-SkillsNetworkCoursesIBMDeveloperSkillsNetworkPY0221ENSkillsNetwork23455645-2021-01-01\"\n",
    "\n",
    "#Establishing The connection using the webpage\n",
    "response = requests.get(url)\n",
    "\n",
    "# You can use status codes to understand how the target server responds to your request.\n",
    "# Ex., 200 = OK, 400 = Bad Request, 403 = Forbidden, 404 = Not Found.\n",
    "print(response.status_code)\n",
    "\n",
    "#pull out the thml string using requests and convert it into pyhton string\n",
    "html_data = response.text"
   ]
  },
  {
   "cell_type": "code",
   "execution_count": 8,
   "id": "d24b06cb",
   "metadata": {},
   "outputs": [
    {
     "data": {
      "text/plain": [
       "'List of largest banks -'"
      ]
     },
     "execution_count": 8,
     "metadata": {},
     "output_type": "execute_result"
    }
   ],
   "source": [
    "html_data[101:124]"
   ]
  },
  {
   "cell_type": "markdown",
   "id": "ca594ad4",
   "metadata": {},
   "source": [
    "# Using BeautifulSoup parse the contents of the webpage."
   ]
  },
  {
   "cell_type": "code",
   "execution_count": 9,
   "id": "ab07307c",
   "metadata": {},
   "outputs": [],
   "source": [
    "soup = BeautifulSoup(html_data,'lxml')"
   ]
  },
  {
   "cell_type": "markdown",
   "id": "babc18ad",
   "metadata": {},
   "source": [
    "Load the data from the By market capitalization table into a pandas dataframe.\n",
    "The dataframe should have the country Name and Market Cap (US$ Billion) as column names. \n",
    "Using the empty dataframe data and the given loop extract the necessary data from each row and append it\n",
    "to the empty dataframe"
   ]
  },
  {
   "cell_type": "code",
   "execution_count": 15,
   "id": "a93de0bf",
   "metadata": {},
   "outputs": [
    {
     "name": "stderr",
     "output_type": "stream",
     "text": [
      "C:\\Users\\Zain ul Abideeen\\AppData\\Local\\Temp\\ipykernel_5056\\1978280857.py:8: FutureWarning: The frame.append method is deprecated and will be removed from pandas in a future version. Use pandas.concat instead.\n",
      "  data = data.append({'Name':col[1].text.strip(),\n",
      "C:\\Users\\Zain ul Abideeen\\AppData\\Local\\Temp\\ipykernel_5056\\1978280857.py:8: FutureWarning: The frame.append method is deprecated and will be removed from pandas in a future version. Use pandas.concat instead.\n",
      "  data = data.append({'Name':col[1].text.strip(),\n",
      "C:\\Users\\Zain ul Abideeen\\AppData\\Local\\Temp\\ipykernel_5056\\1978280857.py:8: FutureWarning: The frame.append method is deprecated and will be removed from pandas in a future version. Use pandas.concat instead.\n",
      "  data = data.append({'Name':col[1].text.strip(),\n",
      "C:\\Users\\Zain ul Abideeen\\AppData\\Local\\Temp\\ipykernel_5056\\1978280857.py:8: FutureWarning: The frame.append method is deprecated and will be removed from pandas in a future version. Use pandas.concat instead.\n",
      "  data = data.append({'Name':col[1].text.strip(),\n",
      "C:\\Users\\Zain ul Abideeen\\AppData\\Local\\Temp\\ipykernel_5056\\1978280857.py:8: FutureWarning: The frame.append method is deprecated and will be removed from pandas in a future version. Use pandas.concat instead.\n",
      "  data = data.append({'Name':col[1].text.strip(),\n",
      "C:\\Users\\Zain ul Abideeen\\AppData\\Local\\Temp\\ipykernel_5056\\1978280857.py:8: FutureWarning: The frame.append method is deprecated and will be removed from pandas in a future version. Use pandas.concat instead.\n",
      "  data = data.append({'Name':col[1].text.strip(),\n",
      "C:\\Users\\Zain ul Abideeen\\AppData\\Local\\Temp\\ipykernel_5056\\1978280857.py:8: FutureWarning: The frame.append method is deprecated and will be removed from pandas in a future version. Use pandas.concat instead.\n",
      "  data = data.append({'Name':col[1].text.strip(),\n",
      "C:\\Users\\Zain ul Abideeen\\AppData\\Local\\Temp\\ipykernel_5056\\1978280857.py:8: FutureWarning: The frame.append method is deprecated and will be removed from pandas in a future version. Use pandas.concat instead.\n",
      "  data = data.append({'Name':col[1].text.strip(),\n",
      "C:\\Users\\Zain ul Abideeen\\AppData\\Local\\Temp\\ipykernel_5056\\1978280857.py:8: FutureWarning: The frame.append method is deprecated and will be removed from pandas in a future version. Use pandas.concat instead.\n",
      "  data = data.append({'Name':col[1].text.strip(),\n",
      "C:\\Users\\Zain ul Abideeen\\AppData\\Local\\Temp\\ipykernel_5056\\1978280857.py:8: FutureWarning: The frame.append method is deprecated and will be removed from pandas in a future version. Use pandas.concat instead.\n",
      "  data = data.append({'Name':col[1].text.strip(),\n",
      "C:\\Users\\Zain ul Abideeen\\AppData\\Local\\Temp\\ipykernel_5056\\1978280857.py:8: FutureWarning: The frame.append method is deprecated and will be removed from pandas in a future version. Use pandas.concat instead.\n",
      "  data = data.append({'Name':col[1].text.strip(),\n",
      "C:\\Users\\Zain ul Abideeen\\AppData\\Local\\Temp\\ipykernel_5056\\1978280857.py:8: FutureWarning: The frame.append method is deprecated and will be removed from pandas in a future version. Use pandas.concat instead.\n",
      "  data = data.append({'Name':col[1].text.strip(),\n",
      "C:\\Users\\Zain ul Abideeen\\AppData\\Local\\Temp\\ipykernel_5056\\1978280857.py:8: FutureWarning: The frame.append method is deprecated and will be removed from pandas in a future version. Use pandas.concat instead.\n",
      "  data = data.append({'Name':col[1].text.strip(),\n",
      "C:\\Users\\Zain ul Abideeen\\AppData\\Local\\Temp\\ipykernel_5056\\1978280857.py:8: FutureWarning: The frame.append method is deprecated and will be removed from pandas in a future version. Use pandas.concat instead.\n",
      "  data = data.append({'Name':col[1].text.strip(),\n",
      "C:\\Users\\Zain ul Abideeen\\AppData\\Local\\Temp\\ipykernel_5056\\1978280857.py:8: FutureWarning: The frame.append method is deprecated and will be removed from pandas in a future version. Use pandas.concat instead.\n",
      "  data = data.append({'Name':col[1].text.strip(),\n",
      "C:\\Users\\Zain ul Abideeen\\AppData\\Local\\Temp\\ipykernel_5056\\1978280857.py:8: FutureWarning: The frame.append method is deprecated and will be removed from pandas in a future version. Use pandas.concat instead.\n",
      "  data = data.append({'Name':col[1].text.strip(),\n",
      "C:\\Users\\Zain ul Abideeen\\AppData\\Local\\Temp\\ipykernel_5056\\1978280857.py:8: FutureWarning: The frame.append method is deprecated and will be removed from pandas in a future version. Use pandas.concat instead.\n",
      "  data = data.append({'Name':col[1].text.strip(),\n",
      "C:\\Users\\Zain ul Abideeen\\AppData\\Local\\Temp\\ipykernel_5056\\1978280857.py:8: FutureWarning: The frame.append method is deprecated and will be removed from pandas in a future version. Use pandas.concat instead.\n",
      "  data = data.append({'Name':col[1].text.strip(),\n",
      "C:\\Users\\Zain ul Abideeen\\AppData\\Local\\Temp\\ipykernel_5056\\1978280857.py:8: FutureWarning: The frame.append method is deprecated and will be removed from pandas in a future version. Use pandas.concat instead.\n",
      "  data = data.append({'Name':col[1].text.strip(),\n",
      "C:\\Users\\Zain ul Abideeen\\AppData\\Local\\Temp\\ipykernel_5056\\1978280857.py:8: FutureWarning: The frame.append method is deprecated and will be removed from pandas in a future version. Use pandas.concat instead.\n",
      "  data = data.append({'Name':col[1].text.strip(),\n",
      "C:\\Users\\Zain ul Abideeen\\AppData\\Local\\Temp\\ipykernel_5056\\1978280857.py:8: FutureWarning: The frame.append method is deprecated and will be removed from pandas in a future version. Use pandas.concat instead.\n",
      "  data = data.append({'Name':col[1].text.strip(),\n",
      "C:\\Users\\Zain ul Abideeen\\AppData\\Local\\Temp\\ipykernel_5056\\1978280857.py:8: FutureWarning: The frame.append method is deprecated and will be removed from pandas in a future version. Use pandas.concat instead.\n",
      "  data = data.append({'Name':col[1].text.strip(),\n",
      "C:\\Users\\Zain ul Abideeen\\AppData\\Local\\Temp\\ipykernel_5056\\1978280857.py:8: FutureWarning: The frame.append method is deprecated and will be removed from pandas in a future version. Use pandas.concat instead.\n",
      "  data = data.append({'Name':col[1].text.strip(),\n",
      "C:\\Users\\Zain ul Abideeen\\AppData\\Local\\Temp\\ipykernel_5056\\1978280857.py:8: FutureWarning: The frame.append method is deprecated and will be removed from pandas in a future version. Use pandas.concat instead.\n",
      "  data = data.append({'Name':col[1].text.strip(),\n",
      "C:\\Users\\Zain ul Abideeen\\AppData\\Local\\Temp\\ipykernel_5056\\1978280857.py:8: FutureWarning: The frame.append method is deprecated and will be removed from pandas in a future version. Use pandas.concat instead.\n",
      "  data = data.append({'Name':col[1].text.strip(),\n",
      "C:\\Users\\Zain ul Abideeen\\AppData\\Local\\Temp\\ipykernel_5056\\1978280857.py:8: FutureWarning: The frame.append method is deprecated and will be removed from pandas in a future version. Use pandas.concat instead.\n",
      "  data = data.append({'Name':col[1].text.strip(),\n",
      "C:\\Users\\Zain ul Abideeen\\AppData\\Local\\Temp\\ipykernel_5056\\1978280857.py:8: FutureWarning: The frame.append method is deprecated and will be removed from pandas in a future version. Use pandas.concat instead.\n",
      "  data = data.append({'Name':col[1].text.strip(),\n",
      "C:\\Users\\Zain ul Abideeen\\AppData\\Local\\Temp\\ipykernel_5056\\1978280857.py:8: FutureWarning: The frame.append method is deprecated and will be removed from pandas in a future version. Use pandas.concat instead.\n",
      "  data = data.append({'Name':col[1].text.strip(),\n",
      "C:\\Users\\Zain ul Abideeen\\AppData\\Local\\Temp\\ipykernel_5056\\1978280857.py:8: FutureWarning: The frame.append method is deprecated and will be removed from pandas in a future version. Use pandas.concat instead.\n",
      "  data = data.append({'Name':col[1].text.strip(),\n",
      "C:\\Users\\Zain ul Abideeen\\AppData\\Local\\Temp\\ipykernel_5056\\1978280857.py:8: FutureWarning: The frame.append method is deprecated and will be removed from pandas in a future version. Use pandas.concat instead.\n",
      "  data = data.append({'Name':col[1].text.strip(),\n",
      "C:\\Users\\Zain ul Abideeen\\AppData\\Local\\Temp\\ipykernel_5056\\1978280857.py:8: FutureWarning: The frame.append method is deprecated and will be removed from pandas in a future version. Use pandas.concat instead.\n",
      "  data = data.append({'Name':col[1].text.strip(),\n",
      "C:\\Users\\Zain ul Abideeen\\AppData\\Local\\Temp\\ipykernel_5056\\1978280857.py:8: FutureWarning: The frame.append method is deprecated and will be removed from pandas in a future version. Use pandas.concat instead.\n",
      "  data = data.append({'Name':col[1].text.strip(),\n"
     ]
    },
    {
     "name": "stderr",
     "output_type": "stream",
     "text": [
      "C:\\Users\\Zain ul Abideeen\\AppData\\Local\\Temp\\ipykernel_5056\\1978280857.py:8: FutureWarning: The frame.append method is deprecated and will be removed from pandas in a future version. Use pandas.concat instead.\n",
      "  data = data.append({'Name':col[1].text.strip(),\n",
      "C:\\Users\\Zain ul Abideeen\\AppData\\Local\\Temp\\ipykernel_5056\\1978280857.py:8: FutureWarning: The frame.append method is deprecated and will be removed from pandas in a future version. Use pandas.concat instead.\n",
      "  data = data.append({'Name':col[1].text.strip(),\n",
      "C:\\Users\\Zain ul Abideeen\\AppData\\Local\\Temp\\ipykernel_5056\\1978280857.py:8: FutureWarning: The frame.append method is deprecated and will be removed from pandas in a future version. Use pandas.concat instead.\n",
      "  data = data.append({'Name':col[1].text.strip(),\n",
      "C:\\Users\\Zain ul Abideeen\\AppData\\Local\\Temp\\ipykernel_5056\\1978280857.py:8: FutureWarning: The frame.append method is deprecated and will be removed from pandas in a future version. Use pandas.concat instead.\n",
      "  data = data.append({'Name':col[1].text.strip(),\n",
      "C:\\Users\\Zain ul Abideeen\\AppData\\Local\\Temp\\ipykernel_5056\\1978280857.py:8: FutureWarning: The frame.append method is deprecated and will be removed from pandas in a future version. Use pandas.concat instead.\n",
      "  data = data.append({'Name':col[1].text.strip(),\n",
      "C:\\Users\\Zain ul Abideeen\\AppData\\Local\\Temp\\ipykernel_5056\\1978280857.py:8: FutureWarning: The frame.append method is deprecated and will be removed from pandas in a future version. Use pandas.concat instead.\n",
      "  data = data.append({'Name':col[1].text.strip(),\n",
      "C:\\Users\\Zain ul Abideeen\\AppData\\Local\\Temp\\ipykernel_5056\\1978280857.py:8: FutureWarning: The frame.append method is deprecated and will be removed from pandas in a future version. Use pandas.concat instead.\n",
      "  data = data.append({'Name':col[1].text.strip(),\n",
      "C:\\Users\\Zain ul Abideeen\\AppData\\Local\\Temp\\ipykernel_5056\\1978280857.py:8: FutureWarning: The frame.append method is deprecated and will be removed from pandas in a future version. Use pandas.concat instead.\n",
      "  data = data.append({'Name':col[1].text.strip(),\n",
      "C:\\Users\\Zain ul Abideeen\\AppData\\Local\\Temp\\ipykernel_5056\\1978280857.py:8: FutureWarning: The frame.append method is deprecated and will be removed from pandas in a future version. Use pandas.concat instead.\n",
      "  data = data.append({'Name':col[1].text.strip(),\n",
      "C:\\Users\\Zain ul Abideeen\\AppData\\Local\\Temp\\ipykernel_5056\\1978280857.py:8: FutureWarning: The frame.append method is deprecated and will be removed from pandas in a future version. Use pandas.concat instead.\n",
      "  data = data.append({'Name':col[1].text.strip(),\n",
      "C:\\Users\\Zain ul Abideeen\\AppData\\Local\\Temp\\ipykernel_5056\\1978280857.py:8: FutureWarning: The frame.append method is deprecated and will be removed from pandas in a future version. Use pandas.concat instead.\n",
      "  data = data.append({'Name':col[1].text.strip(),\n",
      "C:\\Users\\Zain ul Abideeen\\AppData\\Local\\Temp\\ipykernel_5056\\1978280857.py:8: FutureWarning: The frame.append method is deprecated and will be removed from pandas in a future version. Use pandas.concat instead.\n",
      "  data = data.append({'Name':col[1].text.strip(),\n",
      "C:\\Users\\Zain ul Abideeen\\AppData\\Local\\Temp\\ipykernel_5056\\1978280857.py:8: FutureWarning: The frame.append method is deprecated and will be removed from pandas in a future version. Use pandas.concat instead.\n",
      "  data = data.append({'Name':col[1].text.strip(),\n",
      "C:\\Users\\Zain ul Abideeen\\AppData\\Local\\Temp\\ipykernel_5056\\1978280857.py:8: FutureWarning: The frame.append method is deprecated and will be removed from pandas in a future version. Use pandas.concat instead.\n",
      "  data = data.append({'Name':col[1].text.strip(),\n",
      "C:\\Users\\Zain ul Abideeen\\AppData\\Local\\Temp\\ipykernel_5056\\1978280857.py:8: FutureWarning: The frame.append method is deprecated and will be removed from pandas in a future version. Use pandas.concat instead.\n",
      "  data = data.append({'Name':col[1].text.strip(),\n",
      "C:\\Users\\Zain ul Abideeen\\AppData\\Local\\Temp\\ipykernel_5056\\1978280857.py:8: FutureWarning: The frame.append method is deprecated and will be removed from pandas in a future version. Use pandas.concat instead.\n",
      "  data = data.append({'Name':col[1].text.strip(),\n",
      "C:\\Users\\Zain ul Abideeen\\AppData\\Local\\Temp\\ipykernel_5056\\1978280857.py:8: FutureWarning: The frame.append method is deprecated and will be removed from pandas in a future version. Use pandas.concat instead.\n",
      "  data = data.append({'Name':col[1].text.strip(),\n",
      "C:\\Users\\Zain ul Abideeen\\AppData\\Local\\Temp\\ipykernel_5056\\1978280857.py:8: FutureWarning: The frame.append method is deprecated and will be removed from pandas in a future version. Use pandas.concat instead.\n",
      "  data = data.append({'Name':col[1].text.strip(),\n"
     ]
    }
   ],
   "source": [
    "data = pd.DataFrame(columns=['Name','Market cap(US$ Billion)'])\n",
    "\n",
    "for row in soup.find_all('tbody')[3].find_all('tr'):\n",
    "    col = row.find_all('td')\n",
    "    if len(col) == 0:\n",
    "        continue\n",
    "    else:\n",
    "        data = data.append({'Name':col[1].text.strip(),\n",
    "                           'Market cap(US$ Billion)': col[2].text.strip()},ignore_index=True)"
   ]
  },
  {
   "cell_type": "code",
   "execution_count": 16,
   "id": "3d2e9a10",
   "metadata": {},
   "outputs": [
    {
     "data": {
      "text/html": [
       "<div>\n",
       "<style scoped>\n",
       "    .dataframe tbody tr th:only-of-type {\n",
       "        vertical-align: middle;\n",
       "    }\n",
       "\n",
       "    .dataframe tbody tr th {\n",
       "        vertical-align: top;\n",
       "    }\n",
       "\n",
       "    .dataframe thead th {\n",
       "        text-align: right;\n",
       "    }\n",
       "</style>\n",
       "<table border=\"1\" class=\"dataframe\">\n",
       "  <thead>\n",
       "    <tr style=\"text-align: right;\">\n",
       "      <th></th>\n",
       "      <th>Name</th>\n",
       "      <th>Market cap(US$ Billion)</th>\n",
       "    </tr>\n",
       "  </thead>\n",
       "  <tbody>\n",
       "    <tr>\n",
       "      <th>0</th>\n",
       "      <td>JPMorgan Chase</td>\n",
       "      <td>400.37[6]</td>\n",
       "    </tr>\n",
       "    <tr>\n",
       "      <th>1</th>\n",
       "      <td>Industrial and Commercial Bank of China</td>\n",
       "      <td>295.65</td>\n",
       "    </tr>\n",
       "    <tr>\n",
       "      <th>2</th>\n",
       "      <td>Bank of America</td>\n",
       "      <td>279.73</td>\n",
       "    </tr>\n",
       "    <tr>\n",
       "      <th>3</th>\n",
       "      <td>Wells Fargo</td>\n",
       "      <td>214.34</td>\n",
       "    </tr>\n",
       "    <tr>\n",
       "      <th>4</th>\n",
       "      <td>China Construction Bank</td>\n",
       "      <td>207.98</td>\n",
       "    </tr>\n",
       "  </tbody>\n",
       "</table>\n",
       "</div>"
      ],
      "text/plain": [
       "                                      Name Market cap(US$ Billion)\n",
       "0                           JPMorgan Chase               400.37[6]\n",
       "1  Industrial and Commercial Bank of China                  295.65\n",
       "2                          Bank of America                  279.73\n",
       "3                              Wells Fargo                  214.34\n",
       "4                  China Construction Bank                  207.98"
      ]
     },
     "execution_count": 16,
     "metadata": {},
     "output_type": "execute_result"
    }
   ],
   "source": [
    "data.head()"
   ]
  },
  {
   "cell_type": "markdown",
   "id": "dc0b5f42",
   "metadata": {},
   "source": [
    "# Loading Data"
   ]
  },
  {
   "cell_type": "markdown",
   "id": "cbf51206",
   "metadata": {},
   "source": [
    "Usually you will Load the pandas dataframe created above into a JSON named bank_market_cap.json using the to_json() function,\n",
    "but this time the data will be sent to another team who will split the data file into two files and inspect it. If you save the\n",
    "data it will interfere with the next part of the assignment."
   ]
  },
  {
   "cell_type": "code",
   "execution_count": 19,
   "id": "ad37ffbb",
   "metadata": {},
   "outputs": [],
   "source": [
    "\n",
    "def load(data):\n",
    "    data.to_json('By_Market_capita', index = True)"
   ]
  },
  {
   "cell_type": "code",
   "execution_count": 20,
   "id": "4cfb18ee",
   "metadata": {},
   "outputs": [],
   "source": [
    "load(data)"
   ]
  }
 ],
 "metadata": {
  "kernelspec": {
   "display_name": "Python 3 (ipykernel)",
   "language": "python",
   "name": "python3"
  },
  "language_info": {
   "codemirror_mode": {
    "name": "ipython",
    "version": 3
   },
   "file_extension": ".py",
   "mimetype": "text/x-python",
   "name": "python",
   "nbconvert_exporter": "python",
   "pygments_lexer": "ipython3",
   "version": "3.9.12"
  }
 },
 "nbformat": 4,
 "nbformat_minor": 5
}
